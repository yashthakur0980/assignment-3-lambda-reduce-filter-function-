{
 "cells": [
  {
   "cell_type": "code",
   "execution_count": 1,
   "id": "f90b2f64-e960-4b8a-882a-bb8a3a52a320",
   "metadata": {},
   "outputs": [],
   "source": [
    "##Q1 = \n"
   ]
  },
  {
   "cell_type": "code",
   "execution_count": 4,
   "id": "dd00db45-24ba-4960-a487-df1b8bc0a468",
   "metadata": {},
   "outputs": [
    {
     "data": {
      "text/plain": [
       "[('Jack Kallis', 25534),\n",
       " ('Ricky Ponting', 27483),\n",
       " ('Sachin Tendulkar', 34357),\n",
       " ('Virat Kohli', 24936)]"
      ]
     },
     "execution_count": 4,
     "metadata": {},
     "output_type": "execute_result"
    }
   ],
   "source": [
    "l = [('Sachin Tendulkar', 34357), ('Ricky Ponting', 27483), ('Jack Kallis', 25534), ('Virat Kohli', 24936)]\n",
    "l.sort(key= lambda a :a[0])\n",
    "l"
   ]
  },
  {
   "cell_type": "code",
   "execution_count": 5,
   "id": "6b1ba121-2124-44ab-9213-195b940ad385",
   "metadata": {},
   "outputs": [],
   "source": [
    "##q2="
   ]
  },
  {
   "cell_type": "code",
   "execution_count": 6,
   "id": "fdca4b8a-3e19-49e3-8ae6-b49d0723dae9",
   "metadata": {},
   "outputs": [
    {
     "data": {
      "text/plain": [
       "[1, 4, 9, 16, 25, 36, 49, 64, 81, 100]"
      ]
     },
     "execution_count": 6,
     "metadata": {},
     "output_type": "execute_result"
    }
   ],
   "source": [
    "l1 = [1, 2, 3, 4, 5, 6, 7, 8, 9, 10]\n",
    "list (map(lambda a : a*a,l1))"
   ]
  },
  {
   "cell_type": "code",
   "execution_count": 7,
   "id": "68dabc29-da5d-46d7-b873-b9eafcc3e72e",
   "metadata": {},
   "outputs": [],
   "source": [
    "##q3 = "
   ]
  },
  {
   "cell_type": "code",
   "execution_count": 8,
   "id": "ed77e3f8-e330-4728-82ab-4b6998e6b3c3",
   "metadata": {},
   "outputs": [
    {
     "data": {
      "text/plain": [
       "('1', '2', '3', '4', '5', '6', '7', '8', '9', '10')"
      ]
     },
     "execution_count": 8,
     "metadata": {},
     "output_type": "execute_result"
    }
   ],
   "source": [
    "l3= [1, 2, 3, 4, 5, 6, 7, 8, 9, 10] \n",
    "tuple(map(lambda a : str(a),l3))"
   ]
  },
  {
   "cell_type": "code",
   "execution_count": 9,
   "id": "9d721465-39c3-4c25-83ba-08d864c7e3aa",
   "metadata": {},
   "outputs": [
    {
     "data": {
      "text/plain": [
       "['1', '2', '3', '4', '5', '6', '7', '8', '9', '10']"
      ]
     },
     "execution_count": 9,
     "metadata": {},
     "output_type": "execute_result"
    }
   ],
   "source": [
    "list(map(lambda a : str(a),l3))"
   ]
  },
  {
   "cell_type": "code",
   "execution_count": 10,
   "id": "5c21493d-f7d1-4bcc-8b8d-2a7e14c38ba9",
   "metadata": {},
   "outputs": [],
   "source": [
    "##q4 = "
   ]
  },
  {
   "cell_type": "code",
   "execution_count": 11,
   "id": "b8c756a5-e155-40e4-afc2-f2f670a735d6",
   "metadata": {},
   "outputs": [
    {
     "name": "stdout",
     "output_type": "stream",
     "text": [
      "15511210043330985984000000\n"
     ]
    }
   ],
   "source": [
    "from functools import reduce\n",
    "l4 = []\n",
    "for i in range(1,26):\n",
    "    l4.append(i)\n",
    "    \n",
    "result = reduce(lambda a, b : a*b, l4)    \n",
    "print(result)"
   ]
  },
  {
   "cell_type": "code",
   "execution_count": 1,
   "id": "16c00e19-2f93-413e-ae77-6635900a05b9",
   "metadata": {},
   "outputs": [],
   "source": [
    "##q5="
   ]
  },
  {
   "cell_type": "code",
   "execution_count": 5,
   "id": "15984075-43fa-4fa7-aa44-d9f02ad694ad",
   "metadata": {},
   "outputs": [
    {
     "name": "stdout",
     "output_type": "stream",
     "text": [
      "original list['python', 'php', 'aba', 'radar', 'level']\n",
      "palindrome['php', 'aba', 'radar', 'level']\n"
     ]
    }
   ],
   "source": [
    "l = ['python', 'php', 'aba', 'radar', 'level']\n",
    "print(f'original list{l}')\n",
    "p = list(filter(lambda a : a == ''.join(reversed(a)),l))\n",
    "print(f'palindrome{p}')"
   ]
  },
  {
   "cell_type": "code",
   "execution_count": null,
   "id": "63dda27e",
   "metadata": {},
   "outputs": [],
   "source": []
  }
 ],
 "metadata": {
  "kernelspec": {
   "display_name": "Python 3 (ipykernel)",
   "language": "python",
   "name": "python3"
  },
  "language_info": {
   "codemirror_mode": {
    "name": "ipython",
    "version": 3
   },
   "file_extension": ".py",
   "mimetype": "text/x-python",
   "name": "python",
   "nbconvert_exporter": "python",
   "pygments_lexer": "ipython3",
   "version": "3.10.11"
  }
 },
 "nbformat": 4,
 "nbformat_minor": 5
}
